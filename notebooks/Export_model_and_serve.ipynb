{
 "cells": [
  {
   "cell_type": "markdown",
   "metadata": {},
   "source": [
    "# Extract generater model"
   ]
  },
  {
   "cell_type": "code",
   "execution_count": 3,
   "metadata": {},
   "outputs": [
    {
     "name": "stdout",
     "output_type": "stream",
     "text": [
      "gs://chair-generation/models/\r\n",
      "gs://chair-generation/models/edges2chair_ikea/\r\n"
     ]
    }
   ],
   "source": [
    "!gsutil ls gs://chair-generation/models"
   ]
  },
  {
   "cell_type": "code",
   "execution_count": 9,
   "metadata": {},
   "outputs": [
    {
     "name": "stdout",
     "output_type": "stream",
     "text": [
      "Copying gs://chair-generation/models/edges2chair_ikea/checkpoint...\n",
      "Copying gs://chair-generation/models/edges2chair_ikea/events.out.tfevents.1565351093.tensorflow-20190806-153451...\n",
      "Copying gs://chair-generation/models/edges2chair_ikea/events.out.tfevents.1565698804.tensorflow-20190806-153451...\n",
      "Copying gs://chair-generation/models/edges2chair_ikea/events.out.tfevents.1565767058.tensorflow-20190806-153451...\n",
      "| [4 files][261.4 MiB/261.4 MiB]   26.7 MiB/s                                   \n",
      "==> NOTE: You are performing a sequence of gsutil operations that may\n",
      "run significantly faster if you instead use gsutil -m cp ... Please\n",
      "see the -m section under \"gsutil help options\" for further information\n",
      "about when gsutil -m can be advantageous.\n",
      "\n",
      "Copying gs://chair-generation/models/edges2chair_ikea/events.out.tfevents.1566206506.chair-demo-instance...\n",
      "Copying gs://chair-generation/models/edges2chair_ikea/graph.pbtxt...            \n",
      "Copying gs://chair-generation/models/edges2chair_ikea/model-315065.data-00000-of-00001...\n",
      "Copying gs://chair-generation/models/edges2chair_ikea/model-315065.index...     \n",
      "Copying gs://chair-generation/models/edges2chair_ikea/model-315065.meta...      \n",
      "Copying gs://chair-generation/models/edges2chair_ikea/model-324165.data-00000-of-00001...\n",
      "Copying gs://chair-generation/models/edges2chair_ikea/model-324165.index...     \n",
      "Copying gs://chair-generation/models/edges2chair_ikea/model-324165.meta...      \n",
      "Copying gs://chair-generation/models/edges2chair_ikea/model-344565.data-00000-of-00001...\n",
      "Copying gs://chair-generation/models/edges2chair_ikea/model-344565.index...     \n",
      "Copying gs://chair-generation/models/edges2chair_ikea/model-344565.meta...      \n",
      "Copying gs://chair-generation/models/edges2chair_ikea/model-350165.data-00000-of-00001...\n",
      "Copying gs://chair-generation/models/edges2chair_ikea/model-350165.index...     \n",
      "Copying gs://chair-generation/models/edges2chair_ikea/model-350165.meta...      \n",
      "Copying gs://chair-generation/models/edges2chair_ikea/options.json...           \n",
      "\\ [19 files][  2.9 GiB/  2.9 GiB]   20.2 MiB/s                                  \n",
      "Operation completed over 19 objects/2.9 GiB.                                     \n"
     ]
    }
   ],
   "source": [
    "!gsutil cp -r gs://chair-generation/models/edges2chair_ikea/ ../models"
   ]
  },
  {
   "cell_type": "code",
   "execution_count": 10,
   "metadata": {},
   "outputs": [
    {
     "name": "stdout",
     "output_type": "stream",
     "text": [
      "/Users/huijie/.pyenv/versions/3.5.7/lib/python3.5/site-packages/tensorflow/python/framework/dtypes.py:516: FutureWarning: Passing (type, 1) or '1type' as a synonym of type is deprecated; in a future version of numpy, it will be understood as (type, (1,)) / '(1,)type'.\n",
      "  _np_qint8 = np.dtype([(\"qint8\", np.int8, 1)])\n",
      "/Users/huijie/.pyenv/versions/3.5.7/lib/python3.5/site-packages/tensorflow/python/framework/dtypes.py:517: FutureWarning: Passing (type, 1) or '1type' as a synonym of type is deprecated; in a future version of numpy, it will be understood as (type, (1,)) / '(1,)type'.\n",
      "  _np_quint8 = np.dtype([(\"quint8\", np.uint8, 1)])\n",
      "/Users/huijie/.pyenv/versions/3.5.7/lib/python3.5/site-packages/tensorflow/python/framework/dtypes.py:518: FutureWarning: Passing (type, 1) or '1type' as a synonym of type is deprecated; in a future version of numpy, it will be understood as (type, (1,)) / '(1,)type'.\n",
      "  _np_qint16 = np.dtype([(\"qint16\", np.int16, 1)])\n",
      "/Users/huijie/.pyenv/versions/3.5.7/lib/python3.5/site-packages/tensorflow/python/framework/dtypes.py:519: FutureWarning: Passing (type, 1) or '1type' as a synonym of type is deprecated; in a future version of numpy, it will be understood as (type, (1,)) / '(1,)type'.\n",
      "  _np_quint16 = np.dtype([(\"quint16\", np.uint16, 1)])\n",
      "/Users/huijie/.pyenv/versions/3.5.7/lib/python3.5/site-packages/tensorflow/python/framework/dtypes.py:520: FutureWarning: Passing (type, 1) or '1type' as a synonym of type is deprecated; in a future version of numpy, it will be understood as (type, (1,)) / '(1,)type'.\n",
      "  _np_qint32 = np.dtype([(\"qint32\", np.int32, 1)])\n",
      "/Users/huijie/.pyenv/versions/3.5.7/lib/python3.5/site-packages/tensorflow/python/framework/dtypes.py:525: FutureWarning: Passing (type, 1) or '1type' as a synonym of type is deprecated; in a future version of numpy, it will be understood as (type, (1,)) / '(1,)type'.\n",
      "  np_resource = np.dtype([(\"resource\", np.ubyte, 1)])\n",
      "/Users/huijie/.pyenv/versions/3.5.7/lib/python3.5/site-packages/tensorboard/compat/tensorflow_stub/dtypes.py:541: FutureWarning: Passing (type, 1) or '1type' as a synonym of type is deprecated; in a future version of numpy, it will be understood as (type, (1,)) / '(1,)type'.\n",
      "  _np_qint8 = np.dtype([(\"qint8\", np.int8, 1)])\n",
      "/Users/huijie/.pyenv/versions/3.5.7/lib/python3.5/site-packages/tensorboard/compat/tensorflow_stub/dtypes.py:542: FutureWarning: Passing (type, 1) or '1type' as a synonym of type is deprecated; in a future version of numpy, it will be understood as (type, (1,)) / '(1,)type'.\n",
      "  _np_quint8 = np.dtype([(\"quint8\", np.uint8, 1)])\n",
      "/Users/huijie/.pyenv/versions/3.5.7/lib/python3.5/site-packages/tensorboard/compat/tensorflow_stub/dtypes.py:543: FutureWarning: Passing (type, 1) or '1type' as a synonym of type is deprecated; in a future version of numpy, it will be understood as (type, (1,)) / '(1,)type'.\n",
      "  _np_qint16 = np.dtype([(\"qint16\", np.int16, 1)])\n",
      "/Users/huijie/.pyenv/versions/3.5.7/lib/python3.5/site-packages/tensorboard/compat/tensorflow_stub/dtypes.py:544: FutureWarning: Passing (type, 1) or '1type' as a synonym of type is deprecated; in a future version of numpy, it will be understood as (type, (1,)) / '(1,)type'.\n",
      "  _np_quint16 = np.dtype([(\"quint16\", np.uint16, 1)])\n",
      "/Users/huijie/.pyenv/versions/3.5.7/lib/python3.5/site-packages/tensorboard/compat/tensorflow_stub/dtypes.py:545: FutureWarning: Passing (type, 1) or '1type' as a synonym of type is deprecated; in a future version of numpy, it will be understood as (type, (1,)) / '(1,)type'.\n",
      "  _np_qint32 = np.dtype([(\"qint32\", np.int32, 1)])\n",
      "/Users/huijie/.pyenv/versions/3.5.7/lib/python3.5/site-packages/tensorboard/compat/tensorflow_stub/dtypes.py:550: FutureWarning: Passing (type, 1) or '1type' as a synonym of type is deprecated; in a future version of numpy, it will be understood as (type, (1,)) / '(1,)type'.\n",
      "  np_resource = np.dtype([(\"resource\", np.ubyte, 1)])\n",
      "WARNING: Logging before flag parsing goes to stderr.\n",
      "W0821 17:31:47.671000 4589733312 deprecation_wrapper.py:119] From ../pix2pix.py:547: The name tf.set_random_seed is deprecated. Please use tf.compat.v1.set_random_seed instead.\n",
      "\n",
      "loaded ngf = 64\n",
      "loaded ndf = 64\n",
      "loaded lab_colorization = False\n",
      "loaded which_direction = AtoB\n",
      "aspect_ratio = 1.0\n",
      "batch_size = 1\n",
      "beta1 = 0.5\n",
      "checkpoint = ../models/edges2chair_ikea/\n",
      "display_freq = 0\n",
      "flip = False\n",
      "gan_weight = 1.0\n",
      "input_dir = None\n",
      "l1_weight = 100.0\n",
      "lab_colorization = False\n",
      "lr = 0.0002\n",
      "max_epochs = None\n",
      "max_steps = None\n",
      "mode = export\n",
      "ndf = 64\n",
      "ngf = 64\n",
      "output_dir = ../export/edges2chair_ikea/\n",
      "output_filetype = png\n",
      "progress_freq = 50\n",
      "rotate = False\n",
      "save_freq = 5000\n",
      "scale_size = 256\n",
      "seed = 405792730\n",
      "separable_conv = False\n",
      "summary_freq = 100\n",
      "trace_freq = 0\n",
      "which_direction = AtoB\n",
      "W0821 17:31:47.681968 4589733312 deprecation_wrapper.py:119] From ../pix2pix.py:581: The name tf.placeholder is deprecated. Please use tf.compat.v1.placeholder instead.\n",
      "\n",
      "W0821 17:31:47.729074 4589733312 deprecation_wrapper.py:119] From ../pix2pix.py:594: The name tf.variable_scope is deprecated. Please use tf.compat.v1.variable_scope instead.\n",
      "\n",
      "W0821 17:31:47.730958 4589733312 deprecation.py:323] From ../pix2pix.py:108: conv2d (from tensorflow.python.layers.convolutional) is deprecated and will be removed in a future version.\n",
      "Instructions for updating:\n",
      "Use `tf.keras.layers.Conv2D` instead.\n",
      "W0821 17:31:47.963252 4589733312 deprecation.py:323] From ../pix2pix.py:135: batch_normalization (from tensorflow.python.layers.normalization) is deprecated and will be removed in a future version.\n",
      "Instructions for updating:\n",
      "Use keras.layers.BatchNormalization instead.  In particular, `tf.control_dependencies(tf.GraphKeys.UPDATE_OPS)` should not be used (consult the `tf.keras.layers.batch_normalization` documentation).\n",
      "W0821 17:31:48.242227 4589733312 deprecation.py:323] From ../pix2pix.py:119: conv2d_transpose (from tensorflow.python.layers.convolutional) is deprecated and will be removed in a future version.\n",
      "Instructions for updating:\n",
      "Use `tf.keras.layers.Conv2DTranspose` instead.\n",
      "W0821 17:31:48.685396 4589733312 deprecation.py:506] From ../pix2pix.py:386: calling dropout (from tensorflow.python.ops.nn_ops) with keep_prob is deprecated and will be removed in a future version.\n",
      "Instructions for updating:\n",
      "Please use `rate` instead of `keep_prob`. Rate should be set to `rate = 1 - keep_prob`.\n",
      "W0821 17:31:48.984987 4589733312 deprecation_wrapper.py:119] From ../pix2pix.py:613: The name tf.add_to_collection is deprecated. Please use tf.compat.v1.add_to_collection instead.\n",
      "\n",
      "W0821 17:31:48.985527 4589733312 deprecation_wrapper.py:119] From ../pix2pix.py:620: The name tf.global_variables_initializer is deprecated. Please use tf.compat.v1.global_variables_initializer instead.\n",
      "\n",
      "W0821 17:31:48.986962 4589733312 deprecation_wrapper.py:119] From ../pix2pix.py:621: The name tf.train.Saver is deprecated. Please use tf.compat.v1.train.Saver instead.\n",
      "\n",
      "2019-08-21 17:31:49.163333: I tensorflow/core/platform/cpu_feature_guard.cc:142] Your CPU supports instructions that this TensorFlow binary was not compiled to use: AVX2 FMA\n",
      "loading model from checkpoint\n",
      "W0821 17:31:49.408425 4589733312 deprecation.py:323] From /Users/huijie/.pyenv/versions/3.5.7/lib/python3.5/site-packages/tensorflow/python/training/saver.py:1276: checkpoint_exists (from tensorflow.python.training.checkpoint_management) is deprecated and will be removed in a future version.\n",
      "Instructions for updating:\n",
      "Use standard file APIs to check for files with this prefix.\n",
      "exporting model\n",
      "simple save to export model for serving\n",
      "W0821 17:31:50.416771 4589733312 deprecation.py:323] From ../pix2pix.py:638: simple_save (from tensorflow.python.saved_model.simple_save) is deprecated and will be removed in a future version.\n",
      "Instructions for updating:\n",
      "This function will only be available through the v1 compatibility library as tf.compat.v1.saved_model.simple_save.\n",
      "W0821 17:31:50.416886 4589733312 deprecation.py:323] From /Users/huijie/.pyenv/versions/3.5.7/lib/python3.5/site-packages/tensorflow/python/saved_model/signature_def_utils_impl.py:201: build_tensor_info (from tensorflow.python.saved_model.utils_impl) is deprecated and will be removed in a future version.\n",
      "Instructions for updating:\n",
      "This function will only be available through the v1 compatibility library as tf.compat.v1.saved_model.utils.build_tensor_info or tf.compat.v1.saved_model.build_tensor_info.\n"
     ]
    }
   ],
   "source": [
    "!python ../pix2pix.py \\\n",
    "  --mode export \\\n",
    "  --output_dir ../export/edges2chair_ikea/ \\\n",
    "  --checkpoint ../models/edges2chair_ikea/"
   ]
  },
  {
   "cell_type": "code",
   "execution_count": 11,
   "metadata": {},
   "outputs": [
    {
     "name": "stdout",
     "output_type": "stream",
     "text": [
      "Copying file://../export/edges2chair_ikea/checkpoint [Content-Type=application/octet-stream]...\n",
      "Copying file://../export/edges2chair_ikea/options.json [Content-Type=application/json]...\n",
      "Copying file://../export/edges2chair_ikea/export.index [Content-Type=application/octet-stream]...\n",
      "Copying file://../export/edges2chair_ikea/export.meta [Content-Type=application/octet-stream]...\n",
      "- [4 files][377.3 KiB/377.3 KiB]                                                \n",
      "==> NOTE: You are performing a sequence of gsutil operations that may\n",
      "run significantly faster if you instead use gsutil -m cp ... Please\n",
      "see the -m section under \"gsutil help options\" for further information\n",
      "about when gsutil -m can be advantageous.\n",
      "\n",
      "Copying file://../export/edges2chair_ikea/export.data-00000-of-00001 [Content-Type=application/octet-stream]...\n",
      "==> NOTE: You are uploading one or more large file(s), which would run          \n",
      "significantly faster if you enable parallel composite uploads. This\n",
      "feature can be enabled by editing the\n",
      "\"parallel_composite_upload_threshold\" value in your .boto\n",
      "configuration file. However, note that if you do this large files will\n",
      "be uploaded as `composite objects\n",
      "<https://cloud.google.com/storage/docs/composite-objects>`_,which\n",
      "means that any user who downloads such objects will need to have a\n",
      "compiled crcmod installed (see \"gsutil help crcmod\"). This is because\n",
      "without a compiled crcmod, computing checksums on composite objects is\n",
      "so slow that gsutil disables downloads of composite objects.\n",
      "\n",
      "Copying file://../export/edges2chair_ikea/export/saved_model.pb [Content-Type=application/octet-stream]...\n",
      "Copying file://../export/edges2chair_ikea/export/variables/variables.data-00000-of-00001 [Content-Type=application/octet-stream]...\n",
      "Copying file://../export/edges2chair_ikea/export/variables/variables.index [Content-Type=application/octet-stream]...\n",
      "/ [8 files][416.1 MiB/416.1 MiB]   27.8 MiB/s                                   \n",
      "Operation completed over 8 objects/416.1 MiB.                                    \n"
     ]
    }
   ],
   "source": [
    "!gsutil cp -r ../export/edges2chair_ikea/ gs://chair-generation/export"
   ]
  },
  {
   "cell_type": "markdown",
   "metadata": {},
   "source": [
    "# Deploy model"
   ]
  },
  {
   "cell_type": "code",
   "execution_count": 13,
   "metadata": {},
   "outputs": [
    {
     "name": "stdout",
     "output_type": "stream",
     "text": [
      "\u001b[1;33mWARNING:\u001b[0m `--regions` flag will soon be required. Please explicitly specify a region. Using [us-central1] by default.\n",
      "Created ml engine model [projects/chair-search-demo/models/chair_generation].\n"
     ]
    }
   ],
   "source": [
    "!gcloud ai-platform models create \"chair_generation\""
   ]
  },
  {
   "cell_type": "code",
   "execution_count": 16,
   "metadata": {},
   "outputs": [
    {
     "name": "stdout",
     "output_type": "stream",
     "text": [
      "Creating version (this might take a few minutes)......done.                    \n"
     ]
    }
   ],
   "source": [
    "MODEL_DIR=\"gs://chair-generation/export/edges2chair_ikea/export\"\n",
    "VERSION_NAME=\"v001\"\n",
    "MODEL_NAME=\"chair_generation\"\n",
    "FRAMEWORK=\"tensorflow\"\n",
    "\n",
    "!gcloud ai-platform versions create $VERSION_NAME \\\n",
    "  --model $MODEL_NAME \\\n",
    "  --origin $MODEL_DIR \\\n",
    "  --runtime-version=1.14 \\\n",
    "  --framework $FRAMEWORK \\\n",
    "  --python-version=3.5"
   ]
  },
  {
   "cell_type": "markdown",
   "metadata": {},
   "source": [
    "# Test"
   ]
  },
  {
   "cell_type": "code",
   "execution_count": 17,
   "metadata": {},
   "outputs": [
    {
     "name": "stdout",
     "output_type": "stream",
     "text": [
      "OUTPUT_BYTES\r\n",
      "{u'b64': u'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'}\r\n"
     ]
    }
   ],
   "source": [
    "!gcloud ai-platform predict --model $MODEL_NAME  \\\n",
    "                   --version $VERSION_NAME \\\n",
    "                   --json-instances instance.json"
   ]
  },
  {
   "cell_type": "code",
   "execution_count": 31,
   "metadata": {},
   "outputs": [],
   "source": [
    "import googleapiclient \n",
    "from oauth2client.client import GoogleCredentials\n",
    "import json"
   ]
  },
  {
   "cell_type": "code",
   "execution_count": 25,
   "metadata": {},
   "outputs": [],
   "source": [
    "def predict_json(project, model, instances, version=None):\n",
    "    \"\"\"Send json data to a deployed model for prediction.\n",
    "\n",
    "    Args:\n",
    "        project (str): project where the Cloud ML Engine Model is deployed.\n",
    "        model (str): model name.\n",
    "        instances ([Mapping[str: Any]]): Keys should be the names of Tensors\n",
    "            your deployed model expects as inputs. Values should be datatypes\n",
    "            convertible to Tensors, or (potentially nested) lists of datatypes\n",
    "            convertible to tensors.\n",
    "        version: str, version of the model to target.\n",
    "    Returns:\n",
    "        Mapping[str: any]: dictionary of prediction results defined by the\n",
    "            model.\n",
    "    \"\"\"\n",
    "    # Create the ML Engine service object.\n",
    "    # To authenticate set the environment variable\n",
    "    # GOOGLE_APPLICATION_CREDENTIALS=<path_to_service_account_file>\n",
    "    service = googleapiclient.discovery.build('ml', 'v1',)\n",
    "    name = 'projects/{}/models/{}'.format(project, model)\n",
    "\n",
    "    if version is not None:\n",
    "        name += '/versions/{}'.format(version)\n",
    "\n",
    "    response = service.projects().predict(\n",
    "        name=name,\n",
    "        body={'instances': instances}\n",
    "    ).execute()\n",
    "\n",
    "    if 'error' in response:\n",
    "        raise RuntimeError(response['error'])\n",
    "\n",
    "    return response['predictions']"
   ]
  },
  {
   "cell_type": "code",
   "execution_count": null,
   "metadata": {},
   "outputs": [],
   "source": [
    "import base64\n",
    "\n",
    "# Open and read image as bitstring\n",
    "input_image = open(\"../data/sketch/cpvr2016/train/1.png\", \"rb\").read()\n",
    "print(\"Raw bitstring: \" + str(input_image[:10]) + \" ... \" + str(input_image[-10:]))\n",
    "\n",
    "# Encode image in b64\n",
    "encoded_input_string = base64.b64encode(input_image)\n",
    "input_string = encoded_input_string.decode()\n",
    "request_data = {'image_bytes': {\"b64\": input_string}}\n",
    "\n",
    "output = predict_json(\"chair-search-demo\", \"chair_generation\", request_data, version=None)"
   ]
  }
 ],
 "metadata": {
  "kernelspec": {
   "display_name": "Python 3",
   "language": "python",
   "name": "python3"
  },
  "language_info": {
   "codemirror_mode": {
    "name": "ipython",
    "version": 3
   },
   "file_extension": ".py",
   "mimetype": "text/x-python",
   "name": "python",
   "nbconvert_exporter": "python",
   "pygments_lexer": "ipython3",
   "version": "3.5.7"
  }
 },
 "nbformat": 4,
 "nbformat_minor": 2
}
